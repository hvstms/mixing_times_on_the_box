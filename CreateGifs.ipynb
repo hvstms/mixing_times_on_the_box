{
 "cells": [
  {
   "cell_type": "code",
   "execution_count": 29,
   "id": "77ee3ed3",
   "metadata": {},
   "outputs": [],
   "source": [
    "import numpy as np\n",
    "\n",
    "from copy import deepcopy\n",
    "from tqdm import tqdm\n",
    "\n",
    "from Mixers import * \n",
    "\n",
    "import matplotlib.pyplot as plt"
   ]
  },
  {
   "cell_type": "markdown",
   "id": "16316a87",
   "metadata": {},
   "source": [
    "---"
   ]
  },
  {
   "cell_type": "markdown",
   "id": "348c26f4",
   "metadata": {},
   "source": [
    "##### Parameters"
   ]
  },
  {
   "cell_type": "code",
   "execution_count": 43,
   "id": "bc082421",
   "metadata": {},
   "outputs": [],
   "source": [
    "n    = 100    # side length of the box\n",
    "\n",
    "time = 3000   # number of iterations\n",
    "step = 10     # how often do we save a picture\n",
    "\n",
    "wait = 10     # time spent between pictures given in ms\n",
    "dpi  = 200    # defines the quality of the figure, something like pixels per inch\n",
    "\n",
    "density_init     = 1e-3           # initial density\n",
    "transition_class = LazyRandomWalk # transition strategy"
   ]
  },
  {
   "cell_type": "markdown",
   "id": "b0305385",
   "metadata": {},
   "source": [
    "##### Global settings"
   ]
  },
  {
   "cell_type": "code",
   "execution_count": 30,
   "id": "4563f219",
   "metadata": {},
   "outputs": [],
   "source": [
    "np.set_printoptions(precision=2)\n",
    "plt.rcParams['figure.dpi'] = dpi"
   ]
  },
  {
   "cell_type": "markdown",
   "id": "db28982c",
   "metadata": {},
   "source": [
    "---"
   ]
  },
  {
   "cell_type": "markdown",
   "id": "bbee0c09",
   "metadata": {},
   "source": [
    "##### Setting the initial distribution"
   ]
  },
  {
   "cell_type": "code",
   "execution_count": 47,
   "id": "52a0eb5c",
   "metadata": {
    "scrolled": false
   },
   "outputs": [
    {
     "data": {
      "image/png": "[encoded data removed]",
      "text/plain": [
       "<Figure size 432x288 with 1 Axes>"
      ]
     },
     "metadata": {
      "needs_background": "light"
     },
     "output_type": "display_data"
    }
   ],
   "source": [
    "di = (np.random.rand(n,n) < density_init).astype(float)\n",
    "init = Distribution(di)\n",
    "\n",
    "# printing so you have aesthetic options\n",
    "plt.imshow(init.dist)\n",
    "plt.show()"
   ]
  },
  {
   "cell_type": "markdown",
   "id": "ca4206d5",
   "metadata": {},
   "source": [
    "##### Simulation & gif\n",
    "\n",
    "Every figure is closed asap to save resources."
   ]
  },
  {
   "cell_type": "code",
   "execution_count": 29,
   "id": "6368ab12",
   "metadata": {},
   "outputs": [
    {
     "name": "stderr",
     "output_type": "stream",
     "text": [
      "100%|███████████| 299/299 [01:23<00:00,  3.59it/s]\n"
     ]
    }
   ],
   "source": [
    "distribution = deepcopy(init)    # we want the same init for every strategy\n",
    "transition = transition_class(n)\n",
    "\n",
    "folder_name = f'.{str(transition)}_n{n}_t{time}_s{step}'\n",
    "!mkdir $folder_name\n",
    "\n",
    "# we save extra images of the init, so it will be visible in the gif\n",
    "plt.figure(dpi=dpi)\n",
    "plt.imshow(distribution.dist)\n",
    "[plt.savefig(f'{folder_name}/{str(transition)}_0000_{j}.png', ) for j in range(4)]\n",
    "plt.close()\n",
    "\n",
    "# main iteration\n",
    "for i in tqdm(np.arange(step,time,step), ncols=50):\n",
    "    # advancing\n",
    "    [distribution.update(transition) for _ in range(step)]\n",
    "\n",
    "    # saving the current state\n",
    "    plt.figure(dpi=dpi)\n",
    "    plt.imshow(distribution.dist)\n",
    "    plt.savefig(f'{folder_name}/{str(transition)}_{i:04}.png')\n",
    "    plt.close()\n",
    "\n",
    "pics = f'{folder_name}/*.png'\n",
    "gif = f'gifs/{folder_name}.gif'\n",
    "!convert -delay 10 -loop 0 $pics $gif"
   ]
  },
  {
   "cell_type": "markdown",
   "id": "893f31e2",
   "metadata": {},
   "source": [
    "---\n",
    "---\n",
    "---"
   ]
  }
 ],
 "metadata": {
  "kernelspec": {
   "display_name": "Python 3 (ipykernel)",
   "language": "python",
   "name": "python3"
  },
  "language_info": {
   "codemirror_mode": {
    "name": "ipython",
    "version": 3
   },
   "file_extension": ".py",
   "mimetype": "text/x-python",
   "name": "python",
   "nbconvert_exporter": "python",
   "pygments_lexer": "ipython3",
   "version": "3.9.7"
  }
 },
 "nbformat": 4,
 "nbformat_minor": 5
}
