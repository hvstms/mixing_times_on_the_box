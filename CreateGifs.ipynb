{
 "cells": [
  {
   "cell_type": "code",
   "execution_count": 1,
   "id": "77ee3ed3",
   "metadata": {},
   "outputs": [],
   "source": [
    "import numpy as np\n",
    "\n",
    "from copy import deepcopy\n",
    "from tqdm import tqdm\n",
    "import time as t\n",
    "\n",
    "from Mixers import *\n",
    "\n",
    "import matplotlib.pyplot as plt"
   ]
  },
  {
   "cell_type": "markdown",
   "id": "16316a87",
   "metadata": {},
   "source": [
    "---"
   ]
  },
  {
   "cell_type": "markdown",
   "id": "348c26f4",
   "metadata": {},
   "source": [
    "##### Parameters"
   ]
  },
  {
   "cell_type": "code",
   "execution_count": 16,
   "id": "bc082421",
   "metadata": {},
   "outputs": [],
   "source": [
    "d = 6               # depth for BalazsFlow\n",
    "n = 2**(d+1) - 2    # side length of the box\n",
    "density_init = 1e-3 # initial density\n",
    "\n",
    "time = 3000   # number of iterations\n",
    "step = 10     # how often do we save a picture\n",
    "\n",
    "wait = 10     # time spent between pictures given in ms\n",
    "dpi  = 200    # defines the quality of the figure, something like pixels per inch\n",
    "\n",
    "transition = BalazsFlow(depth=d, diff=1/n)"
   ]
  },
  {
   "cell_type": "code",
   "execution_count": 9,
   "id": "b5f6d4af",
   "metadata": {},
   "outputs": [
    {
     "data": {
      "text/plain": [
       "126"
      ]
     },
     "execution_count": 9,
     "metadata": {},
     "output_type": "execute_result"
    }
   ],
   "source": [
    "n"
   ]
  },
  {
   "cell_type": "markdown",
   "id": "b0305385",
   "metadata": {},
   "source": [
    "##### Global settings"
   ]
  },
  {
   "cell_type": "code",
   "execution_count": 10,
   "id": "4563f219",
   "metadata": {},
   "outputs": [],
   "source": [
    "np.set_printoptions(precision=2)\n",
    "plt.rcParams['figure.dpi'] = dpi"
   ]
  },
  {
   "cell_type": "markdown",
   "id": "db28982c",
   "metadata": {},
   "source": [
    "---"
   ]
  },
  {
   "cell_type": "markdown",
   "id": "bbee0c09",
   "metadata": {},
   "source": [
    "##### Setting the initial distribution"
   ]
  },
  {
   "cell_type": "code",
   "execution_count": 11,
   "id": "52a0eb5c",
   "metadata": {
    "scrolled": false
   },
   "outputs": [
    {
     "data": {
      "image/png": "[encoded data removed]",
      "text/plain": [
       "<Figure size 1200x800 with 1 Axes>"
      ]
     },
     "metadata": {
      "needs_background": "light"
     },
     "output_type": "display_data"
    }
   ],
   "source": [
    "di = (np.random.rand(n,n) < density_init).astype(float)\n",
    "init = Distribution(di)\n",
    "\n",
    "# printing so you have aesthetic options\n",
    "plt.imshow(init.dist)\n",
    "plt.show()"
   ]
  },
  {
   "cell_type": "markdown",
   "id": "ca4206d5",
   "metadata": {},
   "source": [
    "##### Simulation & gif\n",
    "\n",
    "Every figure is closed asap to save resources."
   ]
  },
  {
   "cell_type": "code",
   "execution_count": 21,
   "id": "6368ab12",
   "metadata": {},
   "outputs": [
    {
     "name": "stderr",
     "output_type": "stream",
     "text": [
      "100%|███████████| 299/299 [01:10<00:00,  4.23it/s]\n"
     ]
    },
    {
     "name": "stdout",
     "output_type": "stream",
     "text": [
      "gif done | 02:05\n"
     ]
    }
   ],
   "source": [
    "distribution = deepcopy(init)    # we want the same init for every strategy\n",
    "\n",
    "name = f'{str(transition)}_n{n}_t{time}_s{step}'\n",
    "name = f'BalazsFlowWithDiffusion_n{n}_t{time}_s{step}'\n",
    "folder_name = f'.{name}'\n",
    "!mkdir $folder_name\n",
    "\n",
    "# we save extra images of the init, so it will be visible in the gif\n",
    "plt.figure(dpi=dpi)\n",
    "plt.imshow(distribution.dist)\n",
    "[plt.savefig(f'{folder_name}/{str(transition)}_0000_{j}.png', ) for j in range(4)]\n",
    "plt.close()\n",
    "\n",
    "# main iteration\n",
    "for i in tqdm(np.arange(step,time,step), ncols=50):\n",
    "    # advancing\n",
    "    [distribution.update(transition) for _ in range(step)]\n",
    "\n",
    "    # saving the current state\n",
    "    plt.figure(dpi=dpi)\n",
    "    plt.imshow(distribution.dist)\n",
    "    plt.savefig(f'{folder_name}/{str(transition)}_{i:04}.png')\n",
    "    plt.close()\n",
    "\n",
    "pics = f'{folder_name}/*.png'\n",
    "gif = f'gifs/{name}.gif'\n",
    "\n",
    "now = t.time()\n",
    "!convert -delay 10 -loop 0 $pics $gif\n",
    "gif_run_time = t.time()-now\n",
    "print(f'gif done | {gif_run_time // 60:02.0f}:{gif_run_time % 60:02.0f}')"
   ]
  },
  {
   "cell_type": "markdown",
   "id": "893f31e2",
   "metadata": {},
   "source": [
    "---\n",
    "---\n",
    "---"
   ]
  }
 ],
 "metadata": {
  "kernelspec": {
   "display_name": "Python 3 (ipykernel)",
   "language": "python",
   "name": "python3"
  },
  "language_info": {
   "codemirror_mode": {
    "name": "ipython",
    "version": 3
   },
   "file_extension": ".py",
   "mimetype": "text/x-python",
   "name": "python",
   "nbconvert_exporter": "python",
   "pygments_lexer": "ipython3",
   "version": "3.9.7"
  }
 },
 "nbformat": 4,
 "nbformat_minor": 5
}
