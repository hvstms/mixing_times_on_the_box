{
 "cells": [
  {
   "cell_type": "code",
   "execution_count": 2,
   "id": "77ee3ed3",
   "metadata": {},
   "outputs": [],
   "source": [
    "import numpy as np\n",
    "\n",
    "from copy import deepcopy\n",
    "from tqdm import tqdm\n",
    "import time as t\n",
    "\n",
    "from Mixers import *\n",
    "\n",
    "import matplotlib.pyplot as plt"
   ]
  },
  {
   "cell_type": "markdown",
   "id": "c087f5a4",
   "metadata": {},
   "source": [
    "---\n",
    "##### Global settings"
   ]
  },
  {
   "cell_type": "code",
   "execution_count": 4,
   "id": "95fca68e",
   "metadata": {},
   "outputs": [],
   "source": [
    "np.set_printoptions(precision=2)\n",
    "plt.rcParams['figure.dpi'] = 250"
   ]
  },
  {
   "cell_type": "markdown",
   "id": "16316a87",
   "metadata": {},
   "source": [
    "---\n",
    "\n",
    "##### Parameters"
   ]
  },
  {
   "cell_type": "code",
   "execution_count": 3,
   "id": "bc082421",
   "metadata": {},
   "outputs": [],
   "source": [
    "d = 6               # depth for BalazsFlow\n",
    "n = 2**(d+1) - 2    # side length of the box\n",
    "density_init = 1e-3 # initial density\n",
    "\n",
    "time = 3000   # number of iterations\n",
    "step = 10     # how often do we save a picture\n",
    "\n",
    "wait = 10     # time spent between pictures given in ms\n",
    "\n",
    "transition = Swirl(n//2, diff=1/n, alternating=False)"
   ]
  },
  {
   "cell_type": "markdown",
   "id": "db28982c",
   "metadata": {},
   "source": [
    "---\n",
    "\n",
    "##### Setting the initial distribution"
   ]
  },
  {
   "cell_type": "code",
   "execution_count": 7,
   "id": "52a0eb5c",
   "metadata": {
    "scrolled": false
   },
   "outputs": [
    {
     "data": {
      "image/png": "[encoded data removed]",
      "text/plain": [
       "<Figure size 600x400 with 1 Axes>"
      ]
     },
     "metadata": {
      "needs_background": "light"
     },
     "output_type": "display_data"
    }
   ],
   "source": [
    "#di = (np.random.rand(n,n) < density_init).astype(float)\n",
    "di = np.zeros([n,n])\n",
    "di[0,0] = 1\n",
    "init = Distribution(di)\n",
    "\n",
    "# printing so you have aesthetic options\n",
    "plt.imshow(init.d)\n",
    "plt.show()"
   ]
  },
  {
   "cell_type": "markdown",
   "id": "ca4206d5",
   "metadata": {},
   "source": [
    "##### Simulation & gif\n",
    "\n",
    "Every figure is closed asap to save resources."
   ]
  },
  {
   "cell_type": "code",
   "execution_count": 11,
   "id": "8f40ded0",
   "metadata": {},
   "outputs": [
    {
     "name": "stderr",
     "output_type": "stream",
     "text": [
      "100%|███████████| 299/299 [00:42<00:00,  6.96it/s]\n"
     ]
    },
    {
     "name": "stdout",
     "output_type": "stream",
     "text": [
      "gif done | 01:13\n"
     ]
    }
   ],
   "source": [
    "distribution = deepcopy(init)    # we want the same init for every strategy\n",
    "\n",
    "name = f'{str(transition)}_n{n}_t{time}_s{step}'\n",
    "folder_name = f'.{name}'\n",
    "!mkdir $folder_name\n",
    "\n",
    "# we save extra images of the init, so it will be visible in the gif\n",
    "plt.imshow(distribution.d)\n",
    "plt.axis('off')\n",
    "[plt.savefig(f'{folder_name}/{str(transition)}_0000_{j}.png', bbox_inches='tight') for j in range(4)]\n",
    "plt.close()\n",
    "\n",
    "# main iteration\n",
    "for i in tqdm(np.arange(step,time,step), ncols=50):\n",
    "    # advancing\n",
    "    [distribution.update(transition) for _ in range(step)]\n",
    "\n",
    "    # saving the current state\n",
    "    plt.axis('off')\n",
    "    plt.imshow(distribution.d)\n",
    "    plt.savefig(f'{folder_name}/{str(transition)}_{i:04}.png', bbox_inches='tight')\n",
    "    plt.close()\n",
    "\n",
    "pics = f'{folder_name}/*.png'\n",
    "gif = f'gifs/{name}.gif'\n",
    "\n",
    "now = t.time()\n",
    "!convert -delay 10 -loop 0 $pics $gif\n",
    "gif_run_time = t.time()-now\n",
    "print(f'gif done | {gif_run_time // 60:02.0f}:{gif_run_time % 60:02.0f}')\n",
    "\n",
    "!rm -r $folder_name"
   ]
  },
  {
   "cell_type": "markdown",
   "id": "893f31e2",
   "metadata": {},
   "source": [
    "---\n",
    "---\n",
    "---"
   ]
  }
 ],
 "metadata": {
  "kernelspec": {
   "display_name": "Python 3 (ipykernel)",
   "language": "python",
   "name": "python3"
  },
  "language_info": {
   "codemirror_mode": {
    "name": "ipython",
    "version": 3
   },
   "file_extension": ".py",
   "mimetype": "text/x-python",
   "name": "python",
   "nbconvert_exporter": "python",
   "pygments_lexer": "ipython3",
   "version": "3.9.7"
  }
 },
 "nbformat": 4,
 "nbformat_minor": 5
}
