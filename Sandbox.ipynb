{
 "cells": [
  {
   "cell_type": "code",
   "execution_count": 4,
   "id": "693ffe61",
   "metadata": {},
   "outputs": [],
   "source": [
    "from Mixers import *\n",
    "\n",
    "import matplotlib.pyplot as plt"
   ]
  },
  {
   "cell_type": "markdown",
   "id": "78d4ae94",
   "metadata": {},
   "source": [
    "---"
   ]
  },
  {
   "cell_type": "code",
   "execution_count": 92,
   "id": "cfe4b8f6",
   "metadata": {},
   "outputs": [],
   "source": [
    "import warnings"
   ]
  },
  {
   "cell_type": "code",
   "execution_count": 96,
   "id": "c1ffd7f2",
   "metadata": {},
   "outputs": [
    {
     "name": "stderr",
     "output_type": "stream",
     "text": [
      "/tmp/ipykernel_13522/3266431632.py:1: Warning: asdasdasd\n",
      "  warnings.warn('asdasdasd', Warning)\n"
     ]
    }
   ],
   "source": [
    "warnings.warn('asdasdasd', Warning)"
   ]
  },
  {
   "cell_type": "code",
   "execution_count": 91,
   "id": "60d01cf3",
   "metadata": {},
   "outputs": [
    {
     "data": {
      "text/plain": [
       "array([[1., 1., 1., 1., 1., 1., 1., 1., 1., 1.],\n",
       "       [1., 1., 1., 1., 1., 1., 1., 1., 1., 1.],\n",
       "       [1., 1., 1., 1., 1., 1., 1., 1., 1., 1.],\n",
       "       [1., 1., 1., 1., 1., 1., 1., 1., 1., 1.],\n",
       "       [1., 1., 1., 1., 1., 1., 1., 1., 1., 1.],\n",
       "       [1., 1., 1., 1., 1., 1., 1., 1., 1., 1.],\n",
       "       [1., 1., 1., 1., 1., 1., 1., 1., 1., 1.],\n",
       "       [1., 1., 1., 1., 1., 1., 1., 1., 1., 1.],\n",
       "       [1., 1., 1., 1., 1., 1., 1., 1., 1., 1.],\n",
       "       [1., 1., 1., 1., 1., 1., 1., 1., 1., 1.]])"
      ]
     },
     "execution_count": 91,
     "metadata": {},
     "output_type": "execute_result"
    }
   ],
   "source": [
    "asd.tt[0] + sum([shift(i,j) for i,j in zip(asd.tt[1:], ['u','d','l','r'])])"
   ]
  },
  {
   "cell_type": "code",
   "execution_count": 81,
   "id": "a03e2a8a",
   "metadata": {},
   "outputs": [
    {
     "data": {
      "text/plain": [
       "True"
      ]
     },
     "execution_count": 81,
     "metadata": {},
     "output_type": "execute_result"
    }
   ],
   "source": [
    "#asd = Random_Tensor(10)\n",
    "asd = Diffusion_Swirl(10)\n",
    "\n",
    "s, u, d, l, r = asd.tt\n",
    "np.allclose(s + shift(u, 'u') + shift(d, 'd') + shift(l, 'l') + shift(r, 'r'), np.ones([10,10]), atol=1e-10, rtol=1e-10)"
   ]
  },
  {
   "cell_type": "code",
   "execution_count": 27,
   "id": "f48a0e68",
   "metadata": {},
   "outputs": [],
   "source": [
    "dsa = Distribution(np.ones([10,10]))"
   ]
  },
  {
   "cell_type": "code",
   "execution_count": 80,
   "id": "ec0046ab",
   "metadata": {},
   "outputs": [
    {
     "data": {
      "text/plain": [
       "True"
      ]
     },
     "execution_count": 80,
     "metadata": {},
     "output_type": "execute_result"
    }
   ],
   "source": [
    "np.allclose(dsa.dist, Distribution(np.ones([10,10])).dist, atol=1e-10)"
   ]
  },
  {
   "cell_type": "code",
   "execution_count": 52,
   "id": "6fae2d13",
   "metadata": {},
   "outputs": [
    {
     "data": {
      "text/plain": [
       "1.0000000000000004"
      ]
     },
     "execution_count": 52,
     "metadata": {},
     "output_type": "execute_result"
    }
   ],
   "source": [
    "(Distribution(np.ones([10,10])).dist / Distribution(np.ones([10,10])).dist.sum()).sum()"
   ]
  },
  {
   "cell_type": "code",
   "execution_count": 54,
   "id": "d8b7eb20",
   "metadata": {},
   "outputs": [
    {
     "data": {
      "text/plain": [
       "1.0000000000000004"
      ]
     },
     "execution_count": 54,
     "metadata": {},
     "output_type": "execute_result"
    }
   ],
   "source": [
    "[dsa.update(asd) for _ in range(100000)]\n",
    "dsa.dist.sum()"
   ]
  },
  {
   "cell_type": "code",
   "execution_count": 44,
   "id": "1578625b",
   "metadata": {},
   "outputs": [
    {
     "data": {
      "text/plain": [
       "array([[False, False, False, False, False, False, False, False, False,\n",
       "        False],\n",
       "       [False, False,  True,  True,  True, False, False, False, False,\n",
       "        False],\n",
       "       [False, False, False, False, False, False, False, False, False,\n",
       "        False],\n",
       "       [False, False, False, False, False, False, False, False, False,\n",
       "        False],\n",
       "       [False, False, False, False, False, False, False, False, False,\n",
       "        False],\n",
       "       [False, False, False, False, False, False, False, False, False,\n",
       "        False],\n",
       "       [False, False, False, False, False, False,  True, False, False,\n",
       "        False],\n",
       "       [False, False, False, False, False,  True,  True,  True, False,\n",
       "        False],\n",
       "       [False, False, False,  True,  True,  True,  True,  True,  True,\n",
       "        False],\n",
       "       [False, False, False, False, False, False, False, False, False,\n",
       "        False]])"
      ]
     },
     "execution_count": 44,
     "metadata": {},
     "output_type": "execute_result"
    }
   ],
   "source": [
    "Distribution(np.ones([10,10])).dist == dsa.dist"
   ]
  },
  {
   "cell_type": "code",
   "execution_count": 34,
   "id": "4bfef51c",
   "metadata": {},
   "outputs": [],
   "source": [
    "dsa.update(asd)"
   ]
  },
  {
   "cell_type": "code",
   "execution_count": 16,
   "id": "2ebff90f",
   "metadata": {},
   "outputs": [
    {
     "data": {
      "image/png": "[encoded data removed]",
      "text/plain": [
       "<Figure size 432x288 with 1 Axes>"
      ]
     },
     "metadata": {
      "needs_background": "light"
     },
     "output_type": "display_data"
    }
   ],
   "source": [
    "plt.imshow(np.block([[asd.tt[1],asd.tt[2]]]))\n",
    "plt.show()"
   ]
  },
  {
   "cell_type": "code",
   "execution_count": 8,
   "id": "8429fabe",
   "metadata": {},
   "outputs": [
    {
     "data": {
      "text/plain": [
       "array([[[0.6, 0.5, 0.5, 0.5, 0.5, 0.5, 0.5, 0.5, 0.5, 0.6],\n",
       "        [0.5, 0.5, 0.5, 0.5, 0.5, 0.5, 0.5, 0.5, 0.5, 0.5],\n",
       "        [0.5, 0.5, 0.5, 0.5, 0.5, 0.5, 0.5, 0.5, 0.5, 0.5],\n",
       "        [0.5, 0.5, 0.5, 0.5, 0.5, 0.5, 0.5, 0.5, 0.5, 0.5],\n",
       "        [0.5, 0.5, 0.5, 0.5, 0.5, 0.5, 0.5, 0.5, 0.5, 0.5],\n",
       "        [0.5, 0.5, 0.5, 0.5, 0.5, 0.5, 0.5, 0.5, 0.5, 0.5],\n",
       "        [0.5, 0.5, 0.5, 0.5, 0.5, 0.5, 0.5, 0.5, 0.5, 0.5],\n",
       "        [0.5, 0.5, 0.5, 0.5, 0.5, 0.5, 0.5, 0.5, 0.5, 0.5],\n",
       "        [0.5, 0.5, 0.5, 0.5, 0.5, 0.5, 0.5, 0.5, 0.5, 0.5],\n",
       "        [0.6, 0.5, 0.5, 0.5, 0.5, 0.5, 0.5, 0.5, 0.5, 0.6]],\n",
       "\n",
       "       [[0. , 0. , 0. , 0. , 0. , 0. , 0. , 0. , 0. , 0. ],\n",
       "        [0. , 0.1, 0.1, 0.1, 0.1, 0.1, 0.1, 0.1, 0.1, 0.4],\n",
       "        [0. , 0. , 0.1, 0.1, 0.1, 0.1, 0.1, 0.1, 0.3, 0.4],\n",
       "        [0. , 0. , 0. , 0.1, 0.1, 0.1, 0.1, 0.3, 0.3, 0.4],\n",
       "        [0. , 0. , 0. , 0. , 0.1, 0.1, 0.3, 0.3, 0.3, 0.4],\n",
       "        [0. , 0. , 0. , 0. , 0. , 0.3, 0.3, 0.3, 0.3, 0.4],\n",
       "        [0. , 0. , 0. , 0. , 0.1, 0.1, 0.3, 0.3, 0.3, 0.4],\n",
       "        [0. , 0. , 0. , 0.1, 0.1, 0.1, 0.1, 0.3, 0.3, 0.4],\n",
       "        [0. , 0. , 0.1, 0.1, 0.1, 0.1, 0.1, 0.1, 0.3, 0.4],\n",
       "        [0. , 0.1, 0.1, 0.1, 0.1, 0.1, 0.1, 0.1, 0.1, 0.4]],\n",
       "\n",
       "       [[0.4, 0.1, 0.1, 0.1, 0.1, 0.1, 0.1, 0.1, 0.1, 0. ],\n",
       "        [0.4, 0.3, 0.1, 0.1, 0.1, 0.1, 0.1, 0.1, 0. , 0. ],\n",
       "        [0.4, 0.3, 0.3, 0.1, 0.1, 0.1, 0.1, 0. , 0. , 0. ],\n",
       "        [0.4, 0.3, 0.3, 0.3, 0.1, 0.1, 0. , 0. , 0. , 0. ],\n",
       "        [0.4, 0.3, 0.3, 0.3, 0.3, 0. , 0. , 0. , 0. , 0. ],\n",
       "        [0.4, 0.3, 0.3, 0.3, 0.1, 0.1, 0. , 0. , 0. , 0. ],\n",
       "        [0.4, 0.3, 0.3, 0.1, 0.1, 0.1, 0.1, 0. , 0. , 0. ],\n",
       "        [0.4, 0.3, 0.1, 0.1, 0.1, 0.1, 0.1, 0.1, 0. , 0. ],\n",
       "        [0.4, 0.1, 0.1, 0.1, 0.1, 0.1, 0.1, 0.1, 0.1, 0. ],\n",
       "        [0. , 0. , 0. , 0. , 0. , 0. , 0. , 0. , 0. , 0. ]],\n",
       "\n",
       "       [[0. , 0.4, 0.4, 0.4, 0.4, 0.4, 0.4, 0.4, 0.4, 0.4],\n",
       "        [0. , 0.1, 0.3, 0.3, 0.3, 0.3, 0.3, 0.3, 0.3, 0.1],\n",
       "        [0. , 0.1, 0.1, 0.3, 0.3, 0.3, 0.3, 0.3, 0.1, 0.1],\n",
       "        [0. , 0.1, 0.1, 0.1, 0.3, 0.3, 0.3, 0.1, 0.1, 0.1],\n",
       "        [0. , 0.1, 0.1, 0.1, 0.1, 0.3, 0.1, 0.1, 0.1, 0.1],\n",
       "        [0. , 0.1, 0.1, 0.1, 0.1, 0. , 0.1, 0.1, 0.1, 0.1],\n",
       "        [0. , 0.1, 0.1, 0.1, 0. , 0. , 0. , 0.1, 0.1, 0.1],\n",
       "        [0. , 0.1, 0.1, 0. , 0. , 0. , 0. , 0. , 0.1, 0.1],\n",
       "        [0. , 0.1, 0. , 0. , 0. , 0. , 0. , 0. , 0. , 0.1],\n",
       "        [0. , 0. , 0. , 0. , 0. , 0. , 0. , 0. , 0. , 0. ]],\n",
       "\n",
       "       [[0. , 0. , 0. , 0. , 0. , 0. , 0. , 0. , 0. , 0. ],\n",
       "        [0.1, 0. , 0. , 0. , 0. , 0. , 0. , 0. , 0.1, 0. ],\n",
       "        [0.1, 0.1, 0. , 0. , 0. , 0. , 0. , 0.1, 0.1, 0. ],\n",
       "        [0.1, 0.1, 0.1, 0. , 0. , 0. , 0.1, 0.1, 0.1, 0. ],\n",
       "        [0.1, 0.1, 0.1, 0.1, 0. , 0.1, 0.1, 0.1, 0.1, 0. ],\n",
       "        [0.1, 0.1, 0.1, 0.1, 0.3, 0.1, 0.1, 0.1, 0.1, 0. ],\n",
       "        [0.1, 0.1, 0.1, 0.3, 0.3, 0.3, 0.1, 0.1, 0.1, 0. ],\n",
       "        [0.1, 0.1, 0.3, 0.3, 0.3, 0.3, 0.3, 0.1, 0.1, 0. ],\n",
       "        [0.1, 0.3, 0.3, 0.3, 0.3, 0.3, 0.3, 0.3, 0.1, 0. ],\n",
       "        [0.4, 0.4, 0.4, 0.4, 0.4, 0.4, 0.4, 0.4, 0.4, 0. ]]])"
      ]
     },
     "execution_count": 8,
     "metadata": {},
     "output_type": "execute_result"
    }
   ],
   "source": [
    "asd.tt"
   ]
  },
  {
   "cell_type": "code",
   "execution_count": null,
   "id": "ba913abc",
   "metadata": {},
   "outputs": [],
   "source": []
  },
  {
   "cell_type": "code",
   "execution_count": null,
   "id": "3716586c",
   "metadata": {},
   "outputs": [],
   "source": []
  },
  {
   "cell_type": "code",
   "execution_count": null,
   "id": "af3b1b9b",
   "metadata": {},
   "outputs": [],
   "source": []
  },
  {
   "cell_type": "markdown",
   "id": "d12c63ee",
   "metadata": {},
   "source": [
    "---\n",
    "\n",
    "---\n",
    "\n",
    "---"
   ]
  }
 ],
 "metadata": {
  "kernelspec": {
   "display_name": "Python 3 (ipykernel)",
   "language": "python",
   "name": "python3"
  },
  "language_info": {
   "codemirror_mode": {
    "name": "ipython",
    "version": 3
   },
   "file_extension": ".py",
   "mimetype": "text/x-python",
   "name": "python",
   "nbconvert_exporter": "python",
   "pygments_lexer": "ipython3",
   "version": "3.9.7"
  }
 },
 "nbformat": 4,
 "nbformat_minor": 5
}
