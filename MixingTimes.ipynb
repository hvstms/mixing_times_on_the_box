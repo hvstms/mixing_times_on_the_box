{
 "cells": [
  {
   "cell_type": "code",
   "execution_count": 1,
   "id": "77ee3ed3",
   "metadata": {},
   "outputs": [],
   "source": [
    "import numpy as np\n",
    "\n",
    "#from copy import deepcopy\n",
    "from tqdm.notebook import tqdm\n",
    "#import time as t\n",
    "\n",
    "from Mixers import FatPath, Distribution\n",
    "\n",
    "#import matplotlib.pyplot as plt"
   ]
  },
  {
   "cell_type": "markdown",
   "id": "429470fc",
   "metadata": {},
   "source": [
    "---\n",
    "#### Global parameters"
   ]
  },
  {
   "cell_type": "code",
   "execution_count": null,
   "id": "512a1941",
   "metadata": {},
   "outputs": [],
   "source": [
    "np.set_printoptions(precision=2)\n",
    "gridLimit = 1e3"
   ]
  },
  {
   "cell_type": "markdown",
   "id": "16316a87",
   "metadata": {},
   "source": [
    "---\n",
    "#### Run"
   ]
  },
  {
   "cell_type": "code",
   "execution_count": 3,
   "id": "ee46a627",
   "metadata": {},
   "outputs": [],
   "source": [
    "MarkovChain = FatPath\n",
    "param = 1\n",
    "step = 1\n",
    "\n",
    "file_name = 'FatPath'"
   ]
  },
  {
   "cell_type": "code",
   "execution_count": null,
   "id": "604e4d69",
   "metadata": {},
   "outputs": [],
   "source": [
    "##### === Output file === #\n",
    "file = f'mt_data/{file_name}.csv'\n",
    "! touch $file\n",
    "\n",
    "# === Iteration over size of grid === #\n",
    "while True:\n",
    "    \n",
    "    # === Markov chain === #\n",
    "    mc = MarkovChain(param)\n",
    "    n = mc.shape[1]\n",
    "    \n",
    "    if n > gridLimit: break\n",
    "    param += step\n",
    "    \n",
    "    # === Iteration over sampled Dirac distributions === #\n",
    "    for i,j in tqdm(mc.sample_map(), desc='Samples', leave=False):\n",
    "        # === Initial distribution === #\n",
    "        d = np.zeros([n, n])\n",
    "        d[i, j] = 1\n",
    "        di = Distribution(d)\n",
    "\n",
    "        # === Output list === #\n",
    "        dInit = int((np.arange(0,.96,.05) > di.distance_from_stationarity(mc)).sum())\n",
    "        milestone = 1 - (dInit + 1) * .05\n",
    "        \n",
    "        data = [n, i, j] + [0] * dInit\n",
    "        \n",
    "        # === Simulation === #\n",
    "        t = 0\n",
    "        while milestone > 0.2:\n",
    "            di.update(mc)\n",
    "            \n",
    "            if (di.distance_from_stationarity(mc) < milestone):\n",
    "                data.append(t)\n",
    "                milestone -= .05\n",
    "            \n",
    "            t += 1\n",
    "\n",
    "        # === Saving the data === #\n",
    "        output = ','.join(f'{i}' for i in data)\n",
    "        with open(file, 'a') as f:\n",
    "            f.write(output + '\\n')"
   ]
  },
  {
   "cell_type": "markdown",
   "id": "893f31e2",
   "metadata": {},
   "source": [
    "---\n",
    "---\n",
    "---"
   ]
  }
 ],
 "metadata": {
  "kernelspec": {
   "display_name": "Python 3 (ipykernel)",
   "language": "python",
   "name": "python3"
  },
  "language_info": {
   "codemirror_mode": {
    "name": "ipython",
    "version": 3
   },
   "file_extension": ".py",
   "mimetype": "text/x-python",
   "name": "python",
   "nbconvert_exporter": "python",
   "pygments_lexer": "ipython3",
   "version": "3.9.7"
  }
 },
 "nbformat": 4,
 "nbformat_minor": 5
}
