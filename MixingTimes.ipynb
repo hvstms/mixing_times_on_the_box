{
 "cells": [
  {
   "cell_type": "code",
   "execution_count": 1,
   "id": "77ee3ed3",
   "metadata": {},
   "outputs": [],
   "source": [
    "import numpy as np\n",
    "\n",
    "from tqdm.notebook import tqdm\n",
    "\n",
    "from Mixers import FractalSwirl, Distribution\n",
    "\n",
    "import matplotlib.pyplot as plt\n",
    "from matplotlib.pyplot import imshow"
   ]
  },
  {
   "cell_type": "markdown",
   "id": "429470fc",
   "metadata": {},
   "source": [
    "---\n",
    "#### Global parameters"
   ]
  },
  {
   "cell_type": "code",
   "execution_count": 2,
   "id": "512a1941",
   "metadata": {},
   "outputs": [],
   "source": [
    "np.set_printoptions(precision=2)\n",
    "gridLimit = 1.5e3"
   ]
  },
  {
   "cell_type": "markdown",
   "id": "16316a87",
   "metadata": {},
   "source": [
    "---\n",
    "#### Run"
   ]
  },
  {
   "cell_type": "code",
   "execution_count": 3,
   "id": "ee46a627",
   "metadata": {},
   "outputs": [],
   "source": [
    "MarkovChain = FractalSwirl\n",
    "params = [10, .9]\n",
    "step = 1\n",
    "\n",
    "file_name = 'FractalSwirl9'"
   ]
  },
  {
   "cell_type": "code",
   "execution_count": null,
   "id": "604e4d69",
   "metadata": {},
   "outputs": [
    {
     "data": {
      "application/vnd.jupyter.widget-view+json": {
       "model_id": "1dbfae2bf8d544748012a55104cb7abc",
       "version_major": 2,
       "version_minor": 0
      },
      "text/plain": [
       "Samples:   0%|          | 0/128 [00:00<?, ?it/s]"
      ]
     },
     "metadata": {},
     "output_type": "display_data"
    }
   ],
   "source": [
    "##### === Output file === #\n",
    "file = f'mt_data/{file_name}.csv'\n",
    "! touch $file\n",
    "\n",
    "# === Iteration over size of grid === #\n",
    "while True:\n",
    "    \n",
    "    # === Markov chain === #\n",
    "    mc = MarkovChain(*params)\n",
    "    n = mc.shape[1]\n",
    "    \n",
    "    if n > gridLimit: break\n",
    "    params[0] += step\n",
    "    \n",
    "    # === Iteration over sampled Dirac distributions === #\n",
    "    for i,j in tqdm(mc.sample_map(), desc='Samples', leave=False):\n",
    "        # === Initial distribution === #\n",
    "        di = np.zeros([n, n]).view(Distribution)\n",
    "        di[i, j] = 1\n",
    "\n",
    "        # === Output list === #\n",
    "        dInit = int((np.arange(0,.96,.05) > di.distance_from_stationarity(mc)).sum())\n",
    "        milestone = 1 - (dInit + 1) * .05\n",
    "        \n",
    "        data = [n, i, j] + [0] * dInit\n",
    "        \n",
    "        # === Simulation === #\n",
    "        t = 0\n",
    "        while milestone > 0.2:\n",
    "            di.update(mc)\n",
    "            \n",
    "            if (di.distance_from_stationarity(mc) < milestone):\n",
    "                data.append(t)\n",
    "                milestone -= .05\n",
    "            \n",
    "            t += 1\n",
    "\n",
    "        # === Saving the data === #\n",
    "        output = ','.join(f'{i}' for i in data)\n",
    "        with open(file, 'a') as f:\n",
    "            f.write(output + '\\n')"
   ]
  },
  {
   "cell_type": "markdown",
   "id": "825313b8",
   "metadata": {},
   "source": [
    "---"
   ]
  },
  {
   "cell_type": "code",
   "execution_count": 27,
   "id": "9d49f672",
   "metadata": {},
   "outputs": [
    {
     "data": {
      "application/vnd.jupyter.widget-view+json": {
       "model_id": "debeb207568f4ca5ab7402ac503c1364",
       "version_major": 2,
       "version_minor": 0
      },
      "text/plain": [
       "  0%|          | 0/1024 [00:00<?, ?it/s]"
      ]
     },
     "metadata": {},
     "output_type": "display_data"
    }
   ],
   "source": [
    "MarkovChain = FractalSwirl\n",
    "params = [6, .9]\n",
    "\n",
    "mc = MarkovChain(*params)\n",
    "n = mc.shape[1]\n",
    "\n",
    "ms_max = 9\n",
    "ms_min = 1\n",
    "data = np.zeros((ms_max-ms_min, n//2, n//2))\n",
    "\n",
    "for k in tqdm(range(n*n//4)):\n",
    "    i, j = k//(n//2), k%(n//2)\n",
    "    \n",
    "    di = np.zeros([n, n]).view(Distribution)\n",
    "    di[i, j] = 1\n",
    "\n",
    "    # === Output list === #\n",
    "    milestone = ms_max\n",
    "    t = 0\n",
    "    while milestone > ms_min:\n",
    "        di.update(mc)\n",
    "\n",
    "        if (di.distance_from_stationarity(mc) < milestone/10):\n",
    "            data[ms_max-milestone, i, j] = t\n",
    "            milestone -= 1\n",
    "\n",
    "        t += 1"
   ]
  },
  {
   "cell_type": "code",
   "execution_count": 28,
   "id": "11e11edf",
   "metadata": {},
   "outputs": [
    {
     "data": {
      "text/plain": [
       "<matplotlib.image.AxesImage at 0x7f1f8eea3f70>"
      ]
     },
     "execution_count": 28,
     "metadata": {},
     "output_type": "execute_result"
    },
    {
     "data": {
      "image/png": "[encoded data removed]",
      "text/plain": [
       "<Figure size 432x288 with 1 Axes>"
      ]
     },
     "metadata": {
      "needs_background": "light"
     },
     "output_type": "display_data"
    }
   ],
   "source": [
    "imshow(data[1])"
   ]
  },
  {
   "cell_type": "code",
   "execution_count": 29,
   "id": "b8456925",
   "metadata": {},
   "outputs": [
    {
     "data": {
      "text/plain": [
       "<matplotlib.image.AxesImage at 0x7f1f8ee8af10>"
      ]
     },
     "execution_count": 29,
     "metadata": {},
     "output_type": "execute_result"
    },
    {
     "data": {
      "image/png": "[encoded data removed]",
      "text/plain": [
       "<Figure size 432x288 with 1 Axes>"
      ]
     },
     "metadata": {
      "needs_background": "light"
     },
     "output_type": "display_data"
    }
   ],
   "source": [
    "imshow(data[7])"
   ]
  },
  {
   "cell_type": "markdown",
   "id": "893f31e2",
   "metadata": {},
   "source": [
    "---\n",
    "---\n",
    "---"
   ]
  }
 ],
 "metadata": {
  "kernelspec": {
   "display_name": "Python 3 (ipykernel)",
   "language": "python",
   "name": "python3"
  },
  "language_info": {
   "codemirror_mode": {
    "name": "ipython",
    "version": 3
   },
   "file_extension": ".py",
   "mimetype": "text/x-python",
   "name": "python",
   "nbconvert_exporter": "python",
   "pygments_lexer": "ipython3",
   "version": "3.10.6"
  }
 },
 "nbformat": 4,
 "nbformat_minor": 5
}
