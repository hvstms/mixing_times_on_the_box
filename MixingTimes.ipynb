{
 "cells": [
  {
   "cell_type": "code",
   "execution_count": 1,
   "id": "77ee3ed3",
   "metadata": {},
   "outputs": [],
   "source": [
    "import numpy as np\n",
    "\n",
    "#from copy import deepcopy\n",
    "from tqdm.notebook import tqdm\n",
    "#import time as t\n",
    "\n",
    "from Mixers import LazyRandomWalk, Swirl, BalazsFlow, Distribution\n",
    "\n",
    "#import matplotlib.pyplot as plt"
   ]
  },
  {
   "cell_type": "markdown",
   "id": "429470fc",
   "metadata": {},
   "source": [
    "---\n",
    "#### Global parameters"
   ]
  },
  {
   "cell_type": "code",
   "execution_count": 2,
   "id": "82f27c00",
   "metadata": {},
   "outputs": [],
   "source": [
    "np.set_printoptions(precision=2)\n",
    "\n",
    "gridLimit = 1e3"
   ]
  },
  {
   "cell_type": "markdown",
   "id": "16316a87",
   "metadata": {},
   "source": [
    "---\n",
    "#### Run"
   ]
  },
  {
   "cell_type": "code",
   "execution_count": 16,
   "id": "ee46a627",
   "metadata": {},
   "outputs": [],
   "source": [
    "# === Mixing strategy & related parameters === #\n",
    "MarkovChain = Swirl\n",
    "\n",
    "diff = .125\n",
    "alternating = False\n",
    "\n",
    "if MarkovChain == Swirl:\n",
    "    f_n = lambda i: int(2 * i)\n",
    "    iterParams = (1, gridLimit / 2, 25)\n",
    "elif MarkovChain == BalazsFlow:\n",
    "    f_n = lambda i: int(2**(i+1) - 2)\n",
    "    iterParams = (2, np.log(gridLimit + 2) / np.log(2) - 1, 1)\n",
    "else:\n",
    "    f_n = lambda i: int(i)\n",
    "    iterParams = (2, gridLimit, 50)\n",
    "    \n",
    "file_name = ['', 'Alternating'][alternating] + 'Swirl' + ['', 'WithDiffusion'][diff > 0]"
   ]
  },
  {
   "cell_type": "code",
   "execution_count": null,
   "id": "64473409",
   "metadata": {
    "scrolled": false
   },
   "outputs": [
    {
     "data": {
      "application/vnd.jupyter.widget-view+json": {
       "model_id": "a7f09955b9c54ff8a09c31d74e68ace4",
       "version_major": 2,
       "version_minor": 0
      },
      "text/plain": [
       "size:   0%|          | 0/20 [00:00<?, ?it/s]"
      ]
     },
     "metadata": {},
     "output_type": "display_data"
    }
   ],
   "source": [
    "# === Output file === #\n",
    "file = f'mt_data/{file_name}.csv'\n",
    "! touch $file\n",
    "\n",
    "# === Iteration over size of grid === #\n",
    "for k in tqdm(np.arange(*iterParams), desc='size'):\n",
    "    n = f_n(k)\n",
    "        \n",
    "    # === Markov chain === #\n",
    "    mc = MarkovChain(int(k), diff=diff)\n",
    "    \n",
    "    # === Iteration over all Dirac distributions === #\n",
    "    for i,j in [(0,0), ((n-1)//2,(n-1)//2)]:\n",
    "        # === Initial distribution === #\n",
    "        d = np.zeros([n, n])\n",
    "        d[i, j] = 1\n",
    "        di = Distribution(d)\n",
    "\n",
    "        # === Output list === #\n",
    "        dInit = int((np.arange(0,.96,.05) > di.distance_from_stationarity(mc)).sum())\n",
    "        milestone = 1 - (dInit + 1) * .05\n",
    "        \n",
    "        data = [n, i, j] + [0] * dInit\n",
    "        \n",
    "        # === Simulation === #\n",
    "        t = 0\n",
    "        while milestone > 0.2:\n",
    "            di.update(mc)\n",
    "            \n",
    "            if (di.distance_from_stationarity(mc) < milestone):\n",
    "                data.append(t)\n",
    "                milestone -= .05\n",
    "            \n",
    "            t += 1\n",
    "\n",
    "        # === Saving the data === #\n",
    "        output = ','.join(f'{i}' for i in data)\n",
    "        with open(file, 'a') as f:\n",
    "            f.write(output)"
   ]
  },
  {
   "cell_type": "markdown",
   "id": "56eb496d",
   "metadata": {},
   "source": [
    "---\n",
    "#### SandBox"
   ]
  },
  {
   "cell_type": "code",
   "execution_count": 6,
   "id": "eccda5ee",
   "metadata": {},
   "outputs": [
    {
     "data": {
      "image/png": "[encoded data removed]",
      "text/plain": [
       "<Figure size 600x400 with 1 Axes>"
      ]
     },
     "metadata": {
      "needs_background": "light"
     },
     "output_type": "display_data"
    }
   ],
   "source": [
    "plt.plot(tvd_lrw)\n",
    "plt.plot(tvd_bf1)\n",
    "\n",
    "plt.axis('off')\n",
    "plt.show()"
   ]
  },
  {
   "cell_type": "markdown",
   "id": "893f31e2",
   "metadata": {},
   "source": [
    "---\n",
    "---\n",
    "---"
   ]
  }
 ],
 "metadata": {
  "kernelspec": {
   "display_name": "Python 3 (ipykernel)",
   "language": "python",
   "name": "python3"
  },
  "language_info": {
   "codemirror_mode": {
    "name": "ipython",
    "version": 3
   },
   "file_extension": ".py",
   "mimetype": "text/x-python",
   "name": "python",
   "nbconvert_exporter": "python",
   "pygments_lexer": "ipython3",
   "version": "3.9.7"
  }
 },
 "nbformat": 4,
 "nbformat_minor": 5
}
