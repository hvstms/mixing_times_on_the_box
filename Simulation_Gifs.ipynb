{
 "cells": [
  {
   "cell_type": "code",
   "execution_count": 1,
   "id": "77ee3ed3",
   "metadata": {},
   "outputs": [],
   "source": [
    "import numpy as np\n",
    "\n",
    "from copy import deepcopy\n",
    "from tqdm import tqdm\n",
    "\n",
    "from Mixers import * \n",
    "\n",
    "import matplotlib.pyplot as plt"
   ]
  },
  {
   "cell_type": "code",
   "execution_count": 2,
   "id": "bbb80bb7",
   "metadata": {},
   "outputs": [],
   "source": [
    "np.set_printoptions(precision=2)"
   ]
  },
  {
   "cell_type": "markdown",
   "id": "16316a87",
   "metadata": {},
   "source": [
    "---"
   ]
  },
  {
   "cell_type": "code",
   "execution_count": 24,
   "id": "bc082421",
   "metadata": {},
   "outputs": [],
   "source": [
    "dim = 500\n",
    "\n",
    "time = 3000\n",
    "step = 10\n",
    "\n",
    "wait = 10 # ms"
   ]
  },
  {
   "cell_type": "code",
   "execution_count": 25,
   "id": "52a0eb5c",
   "metadata": {
    "scrolled": false
   },
   "outputs": [
    {
     "data": {
      "image/png": "[encoded data removed]",
      "text/plain": [
       "<Figure size 432x288 with 1 Axes>"
      ]
     },
     "metadata": {
      "needs_background": "light"
     },
     "output_type": "display_data"
    }
   ],
   "source": [
    "# initial distribution\n",
    "di = np.zeros([dim,dim])\n",
    "for _ in range(int(.1*dim)):\n",
    "    di[np.random.randint(0,dim), np.random.randint(0,dim)] += 1\n",
    "\n",
    "init = Distribution(di)\n",
    "\n",
    "plt.imshow(init.dist)\n",
    "plt.show()"
   ]
  },
  {
   "cell_type": "code",
   "execution_count": 29,
   "id": "6368ab12",
   "metadata": {},
   "outputs": [
    {
     "name": "stderr",
     "output_type": "stream",
     "text": [
      "100%|███████████| 299/299 [01:23<00:00,  3.59it/s]\n"
     ]
    }
   ],
   "source": [
    "transition_class = Lazy_Random_Walk\n",
    "\n",
    "name = 'Lazy_Random_Walk'\n",
    "folder_name = '{}_d{}_t{}_s{}'.format(name, dim, time, step)\n",
    "\n",
    "!mkdir $folder_name\n",
    "\n",
    "distribution = deepcopy(init)\n",
    "transition = transition_class(dim)\n",
    "\n",
    "plt.figure(dpi=200)\n",
    "plt.imshow(distribution.dist)\n",
    "[plt.savefig(f'{folder_name}/{name}_{0:04}_{j}.png', ) for j in range(4)]\n",
    "plt.close()\n",
    "\n",
    "i = 0\n",
    "for i in tqdm(np.arange(step,time,step), ncols=50):\n",
    "    [distribution.update(transition) for _ in range(step)]\n",
    "\n",
    "    plt.figure(dpi=200)\n",
    "    plt.imshow(distribution.dist)\n",
    "    plt.savefig(f'{folder_name}/{name}_{i:04}.png')\n",
    "    plt.close()\n",
    "\n",
    "pics = f'{folder_name}/*.png'\n",
    "gif = f'gifs/{folder_name}.gif'\n",
    "!convert -delay 10 -loop 0 $pics $gif"
   ]
  },
  {
   "cell_type": "markdown",
   "id": "893f31e2",
   "metadata": {},
   "source": [
    "---\n",
    "---\n",
    "---"
   ]
  }
 ],
 "metadata": {
  "kernelspec": {
   "display_name": "Python 3 (ipykernel)",
   "language": "python",
   "name": "python3"
  },
  "language_info": {
   "codemirror_mode": {
    "name": "ipython",
    "version": 3
   },
   "file_extension": ".py",
   "mimetype": "text/x-python",
   "name": "python",
   "nbconvert_exporter": "python",
   "pygments_lexer": "ipython3",
   "version": "3.9.7"
  }
 },
 "nbformat": 4,
 "nbformat_minor": 5
}
